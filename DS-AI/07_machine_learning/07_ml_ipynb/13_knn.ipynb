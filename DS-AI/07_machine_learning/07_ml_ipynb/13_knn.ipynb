version https://git-lfs.github.com/spec/v1
oid sha256:88f7ff45aecb0a23479f8056c0ac51f8ac3fee3cfbc58ea682f496437a789fe6
size 30680
