version https://git-lfs.github.com/spec/v1
oid sha256:cf257a74f89aa3291e2cef35c51ab523410e83f177e79e4afceb1de4e588c36d
size 332505
