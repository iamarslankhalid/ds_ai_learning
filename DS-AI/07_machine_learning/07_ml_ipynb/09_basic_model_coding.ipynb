version https://git-lfs.github.com/spec/v1
oid sha256:dd0a14f83e70471d6e857c08c4ab49ff177b55b642c4220172da4529dec3cdf6
size 25026
