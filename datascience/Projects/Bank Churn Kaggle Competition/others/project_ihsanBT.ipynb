version https://git-lfs.github.com/spec/v1
oid sha256:5a5a3f8c1abdfd037a41ca3ee4edb3499233674c449991d877a041b5a149a2f9
size 5287655
