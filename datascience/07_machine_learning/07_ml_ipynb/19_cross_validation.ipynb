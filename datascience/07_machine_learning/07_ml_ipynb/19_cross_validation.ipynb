version https://git-lfs.github.com/spec/v1
oid sha256:8a84e7cfe051ba1fde5814c4121c242d2653abb357144ad70bf9ee06a83fe730
size 40455
