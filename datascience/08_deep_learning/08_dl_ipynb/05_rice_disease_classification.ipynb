version https://git-lfs.github.com/spec/v1
oid sha256:24487d2ef17f4000bb88fac79fad956483d33887b0664d808e4e0c469cfbdc07
size 3005253
