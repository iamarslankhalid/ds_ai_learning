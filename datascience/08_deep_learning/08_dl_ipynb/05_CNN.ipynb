version https://git-lfs.github.com/spec/v1
oid sha256:73045606ca00dee86feb1429dec6f30ac752b4961092b3338cfc400c0f246fe8
size 104449
